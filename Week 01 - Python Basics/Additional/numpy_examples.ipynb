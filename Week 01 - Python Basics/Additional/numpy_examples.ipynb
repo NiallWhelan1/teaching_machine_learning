{
 "cells": [
  {
   "cell_type": "markdown",
   "metadata": {},
   "source": [
    "# NumPy\n",
    "\n",
    "numpy is python's package for doing math that is more advanced than +-*/\n",
    "\n",
    "This includes special functions like cosine, exponential, sqrt, ...\n",
    "\n",
    "On top of this we can use numpy to generate samples from many types of random variables\n",
    "\n",
    "numpy also has a powerful data type to define vectors, matrices, and tensors\n",
    "\n",
    "With these data types numpy also allows us to do linear algebra - matrix multiplication and matrix-vector solutions"
   ]
  },
  {
   "cell_type": "code",
   "execution_count": 1,
   "metadata": {},
   "outputs": [],
   "source": [
    "# the first step of using numpy is to tell python to use it\n",
    "import numpy as np"
   ]
  },
  {
   "cell_type": "code",
   "execution_count": 2,
   "metadata": {},
   "outputs": [
    {
     "name": "stdout",
     "output_type": "stream",
     "text": [
      "-1.0\n",
      "1.1\n",
      "5.2\n"
     ]
    }
   ],
   "source": [
    "print(np.cos(np.pi))\n",
    "print(np.sqrt(1.21))\n",
    "print(np.log(np.exp(5.2)))"
   ]
  },
  {
   "cell_type": "code",
   "execution_count": 3,
   "metadata": {},
   "outputs": [
    {
     "name": "stdout",
     "output_type": "stream",
     "text": [
      "[1 2 3]\n",
      "\n",
      "[[1 2 1]\n",
      " [4 5 9]\n",
      " [1 8 9]]\n",
      "\n",
      "[[1 4 1]\n",
      " [2 5 8]\n",
      " [1 9 9]]\n"
     ]
    }
   ],
   "source": [
    "# we can create numpy arrays by converting lists\n",
    "# this is a vector\n",
    "vec = np.array([1,2,3])\n",
    "print(vec)\n",
    "# we can create matrices by converting lists of lists\n",
    "mat = np.array([[1,2,1],[4,5,9],[1,8,9]])\n",
    "print('')\n",
    "print(mat)\n",
    "print('')\n",
    "print(mat.T)"
   ]
  },
  {
   "cell_type": "code",
   "execution_count": 4,
   "metadata": {},
   "outputs": [
    {
     "name": "stdout",
     "output_type": "stream",
     "text": [
      "[ 0  1  2  3  4  5  6  7  8  9 10 11 12 13 14]\n",
      "\n",
      "[ 3  9 15]\n"
     ]
    }
   ],
   "source": [
    "# there are lots of other ways to create numpy arrays\n",
    "vec2 = np.arange(0,15)\n",
    "print(vec2)\n",
    "print('')\n",
    "vec3 = np.arange(3,21,6)\n",
    "print(vec3)\n"
   ]
  },
  {
   "cell_type": "code",
   "execution_count": 5,
   "metadata": {},
   "outputs": [
    {
     "name": "stdout",
     "output_type": "stream",
     "text": [
      "[0.         0.55555556 1.11111111 1.66666667 2.22222222 2.77777778\n",
      " 3.33333333 3.88888889 4.44444444 5.        ]\n",
      "\n",
      "[[0.         0.55555556]\n",
      " [1.11111111 1.66666667]\n",
      " [2.22222222 2.77777778]\n",
      " [3.33333333 3.88888889]\n",
      " [4.44444444 5.        ]]\n",
      "[[0.         0.55555556]\n",
      " [1.11111111 1.66666667]\n",
      " [2.22222222 2.77777778]\n",
      " [3.33333333 3.88888889]\n",
      " [4.44444444 5.        ]]\n",
      "[0.         0.55555556 1.11111111 1.66666667 2.22222222 2.77777778\n",
      " 3.33333333 3.88888889 4.44444444 5.        ]\n"
     ]
    }
   ],
   "source": [
    "\n",
    "vec4 = np.linspace(0,5,10)\n",
    "print(vec4)\n",
    "print('')\n",
    "print(vec4.reshape(5,2))\n",
    "vec4_reshaped = vec4.reshape(5,2)\n",
    "print(vec4_reshaped)\n",
    "print(vec4)"
   ]
  },
  {
   "cell_type": "code",
   "execution_count": 6,
   "metadata": {},
   "outputs": [
    {
     "name": "stdout",
     "output_type": "stream",
     "text": [
      "[[0. 0. 0.]\n",
      " [0. 0. 0.]\n",
      " [0. 0. 0.]\n",
      " [0. 0. 0.]\n",
      " [0. 0. 0.]]\n",
      "\n",
      "[[1. 1. 1. 1. 1.]\n",
      " [1. 1. 1. 1. 1.]\n",
      " [1. 1. 1. 1. 1.]]\n",
      "\n",
      "[[1. 0. 0. 0. 0.]\n",
      " [0. 1. 0. 0. 0.]\n",
      " [0. 0. 1. 0. 0.]\n",
      " [0. 0. 0. 1. 0.]\n",
      " [0. 0. 0. 0. 1.]]\n"
     ]
    }
   ],
   "source": [
    "mat2 = np.zeros([5,3])\n",
    "print(mat2)\n",
    "mat3 = np.ones((3,5))\n",
    "print('')\n",
    "print(mat3)\n",
    "mat4 = np.eye(5)\n",
    "print('')\n",
    "print(mat4)"
   ]
  },
  {
   "cell_type": "code",
   "execution_count": 7,
   "metadata": {},
   "outputs": [
    {
     "name": "stdout",
     "output_type": "stream",
     "text": [
      "[1 2 3 4 5]\n",
      "[3 4 5 6 7]\n",
      "[ 4  6  8 10 12]\n",
      "[ 3  8 15 24 35]\n",
      "[1.         0.5        0.33333333 0.25       0.2       ]\n",
      "[1.73205081 2.         2.23606798 2.44948974 2.64575131]\n"
     ]
    }
   ],
   "source": [
    "# we can +-*/ arrays together if they're the right size\n",
    "vec5 = np.arange(1,6)\n",
    "vec6 = np.arange(3,8)\n",
    "print(vec5)\n",
    "print(vec6)\n",
    "print(vec5+vec6)\n",
    "print(vec5*vec6)\n",
    "print(1/vec5)\n",
    "print(np.sqrt(vec6))"
   ]
  },
  {
   "cell_type": "code",
   "execution_count": 8,
   "metadata": {},
   "outputs": [
    {
     "name": "stdout",
     "output_type": "stream",
     "text": [
      "[[1 2 1]\n",
      " [4 5 9]\n",
      " [1 8 9]]\n",
      "\n",
      "[1 2 3]\n",
      "\n",
      "[ 8 41 44]\n"
     ]
    }
   ],
   "source": [
    "# we can do matrix multiplication\n",
    "print(mat)\n",
    "print('')\n",
    "print(vec)\n",
    "print()\n",
    "product = np.matmul(mat,vec)\n",
    "print(product)"
   ]
  },
  {
   "cell_type": "code",
   "execution_count": 11,
   "metadata": {},
   "outputs": [
    {
     "name": "stdout",
     "output_type": "stream",
     "text": [
      "[1. 2. 3.]\n",
      "\n",
      "[[ 0.5         0.18518519 -0.24074074]\n",
      " [ 0.5        -0.14814815  0.09259259]\n",
      " [-0.5         0.11111111  0.05555556]]\n"
     ]
    }
   ],
   "source": [
    "print(np.linalg.solve(mat,product))\n",
    "print('')\n",
    "print(np.linalg.inv(mat))"
   ]
  },
  {
   "cell_type": "code",
   "execution_count": 13,
   "metadata": {},
   "outputs": [
    {
     "name": "stdout",
     "output_type": "stream",
     "text": [
      "['blue' 'red' 'orange' 'purple' 'purple' 'orange' 'Red' '6']\n",
      "['6' 'Red' 'blue' 'orange' 'purple' 'red']\n"
     ]
    }
   ],
   "source": [
    "# we can find the unique values in an array\n",
    "vec7 = np.array(['blue','red','orange','purple','purple','orange','Red',6])\n",
    "print(vec7)\n",
    "print(np.unique(vec7))"
   ]
  },
  {
   "cell_type": "code",
   "execution_count": 14,
   "metadata": {},
   "outputs": [
    {
     "name": "stdout",
     "output_type": "stream",
     "text": [
      "[[0.55642832 0.50934305 0.86169413 0.76055389 0.98169982]\n",
      " [0.82175993 0.57097263 0.0516012  0.91773073 0.52570887]\n",
      " [0.01297456 0.12283084 0.12584774 0.6635586  0.25174703]\n",
      " [0.14665173 0.49127734 0.16030343 0.71507517 0.13655235]\n",
      " [0.03129647 0.66053676 0.6435941  0.67981543 0.3833041 ]]\n",
      "\n",
      "[[ 2.33064777  3.61479345 -0.42907939  1.19027944  2.03811729]\n",
      " [-0.59094315 -0.22035002 -0.22903008  0.08294808  0.23633135]\n",
      " [ 0.66356053  0.49373551 -0.62546812 -0.80548475 -0.40340269]\n",
      " [ 0.795649   -1.17673403 -0.51694774  0.12836068  0.39208588]\n",
      " [ 0.17112956 -0.57748871 -0.00537526  1.13656111 -0.27935125]\n",
      " [ 0.7886412  -0.74859489 -0.06066173 -0.12201389  0.04839483]\n",
      " [ 1.35606581 -0.02113275  0.5062785  -0.44674686 -1.02707449]\n",
      " [ 0.37182763  1.08219611 -0.58159943 -0.94508854  1.51095395]\n",
      " [ 0.676959   -0.03544465 -1.21023519 -1.10282937 -0.60342395]\n",
      " [ 1.35404932  0.2754752  -1.28798252 -1.83565759 -1.12231798]]\n"
     ]
    }
   ],
   "source": [
    "# we can also use numpy to generate samples of a random variable\n",
    "rand_mat = np.random.rand(5,5) # uniform random variable\n",
    "print(rand_mat)\n",
    "rand_mat2 = np.random.randn(10,5) # standard normal random variable\n",
    "print('')\n",
    "print(rand_mat2)"
   ]
  },
  {
   "cell_type": "code",
   "execution_count": 15,
   "metadata": {},
   "outputs": [
    {
     "name": "stdout",
     "output_type": "stream",
     "text": [
      "0.4713143286046243\n",
      "1.0154967955760585\n"
     ]
    }
   ],
   "source": [
    "# we can also use numpy for statistical tools on arrays\n",
    "print(np.mean(rand_mat))\n",
    "print(np.std(rand_mat2))"
   ]
  },
  {
   "cell_type": "code",
   "execution_count": 16,
   "metadata": {},
   "outputs": [
    {
     "name": "stdout",
     "output_type": "stream",
     "text": [
      "0.012974558061876529\n",
      "3.614793450673732\n"
     ]
    }
   ],
   "source": [
    "print(np.min(rand_mat))\n",
    "print(np.max(rand_mat2))"
   ]
  },
  {
   "cell_type": "code",
   "execution_count": null,
   "metadata": {},
   "outputs": [],
   "source": [
    "# break here for next video!"
   ]
  },
  {
   "cell_type": "code",
   "execution_count": 17,
   "metadata": {},
   "outputs": [
    {
     "name": "stdout",
     "output_type": "stream",
     "text": [
      "[-1.73919656 -1.32549307  1.72986394 -0.40712941 -0.79359062  0.10606895\n",
      "  0.47643997 -0.15828996 -0.92051478 -2.06279081 -0.49179002  0.52921797\n",
      " -0.10529827 -1.07315537  0.1057895   1.19682354 -2.23025777  1.25566424\n",
      "  1.35388225]\n",
      "0.4764399732886239\n"
     ]
    }
   ],
   "source": [
    "# how do we access entries in a numpy vector\n",
    "rand_vec = np.random.randn(19)\n",
    "print(rand_vec)\n",
    "print(rand_vec[6])"
   ]
  },
  {
   "cell_type": "code",
   "execution_count": 18,
   "metadata": {},
   "outputs": [
    {
     "name": "stdout",
     "output_type": "stream",
     "text": [
      "[-0.79359062  0.10606895  0.47643997 -0.15828996 -0.92051478]\n"
     ]
    }
   ],
   "source": [
    "# we can access multiple entries at once using :\n",
    "print(rand_vec[4:9])"
   ]
  },
  {
   "cell_type": "code",
   "execution_count": 19,
   "metadata": {},
   "outputs": [
    {
     "name": "stdout",
     "output_type": "stream",
     "text": [
      "[ 0  3  6  9 12]\n",
      "[-1.73919656 -0.40712941  0.47643997 -2.06279081 -0.10529827]\n"
     ]
    }
   ],
   "source": [
    "# we can also access multiple non-consecutive entries using np.arange\n",
    "print(np.arange(0,15,3))\n",
    "print(rand_vec[np.arange(0,15,3)])"
   ]
  },
  {
   "cell_type": "code",
   "execution_count": 20,
   "metadata": {},
   "outputs": [
    {
     "name": "stdout",
     "output_type": "stream",
     "text": [
      "[[0.55642832 0.50934305 0.86169413 0.76055389 0.98169982]\n",
      " [0.82175993 0.57097263 0.0516012  0.91773073 0.52570887]\n",
      " [0.01297456 0.12283084 0.12584774 0.6635586  0.25174703]\n",
      " [0.14665173 0.49127734 0.16030343 0.71507517 0.13655235]\n",
      " [0.03129647 0.66053676 0.6435941  0.67981543 0.3833041 ]]\n",
      "0.0516011974665358\n",
      "0.0516011974665358\n"
     ]
    }
   ],
   "source": [
    "# what about matrices\n",
    "print(rand_mat)\n",
    "print(rand_mat[1][2])\n",
    "print(rand_mat[1,2])\n"
   ]
  },
  {
   "cell_type": "code",
   "execution_count": 21,
   "metadata": {},
   "outputs": [
    {
     "name": "stdout",
     "output_type": "stream",
     "text": [
      "[[0.50934305 0.86169413]\n",
      " [0.57097263 0.0516012 ]]\n"
     ]
    }
   ],
   "source": [
    "print(rand_mat[0:2,1:3])"
   ]
  },
  {
   "cell_type": "code",
   "execution_count": 22,
   "metadata": {},
   "outputs": [
    {
     "name": "stdout",
     "output_type": "stream",
     "text": [
      "[-1.73919656 -1.32549307  1.72986394 -0.40712941 -0.79359062  0.10606895\n",
      "  0.47643997 -0.15828996 -0.92051478 -2.06279081 -0.49179002  0.52921797\n",
      " -0.10529827 -1.07315537  0.1057895   1.19682354 -2.23025777  1.25566424\n",
      "  1.35388225]\n",
      "\n",
      "[-1.73919656 -1.32549307  1.72986394  4.          4.          0.10606895\n",
      "  0.47643997 -0.15828996 -0.92051478 -2.06279081 -0.49179002  0.52921797\n",
      " -0.10529827 -1.07315537  0.1057895   1.19682354 -2.23025777  1.25566424\n",
      "  1.35388225]\n",
      "\n",
      "[-1.73919656 -1.32549307  1.72986394  1.          2.          0.10606895\n",
      "  0.47643997 -0.15828996 -0.92051478 -2.06279081 -0.49179002  0.52921797\n",
      " -0.10529827 -1.07315537  0.1057895   1.19682354 -2.23025777  1.25566424\n",
      "  1.35388225]\n"
     ]
    }
   ],
   "source": [
    "# let's change some values in an array!\n",
    "print(rand_vec)\n",
    "rand_vec[3:5] = 4\n",
    "print('')\n",
    "print(rand_vec)\n",
    "rand_vec[3:5] = [1,2]\n",
    "print('')\n",
    "print(rand_vec)"
   ]
  },
  {
   "cell_type": "code",
   "execution_count": 23,
   "metadata": {},
   "outputs": [
    {
     "name": "stdout",
     "output_type": "stream",
     "text": [
      "[[0.55642832 0.50934305 0.86169413 0.76055389 0.98169982]\n",
      " [0.82175993 0.57097263 0.0516012  0.91773073 0.52570887]\n",
      " [0.01297456 0.12283084 0.12584774 0.6635586  0.25174703]\n",
      " [0.14665173 0.49127734 0.16030343 0.71507517 0.13655235]\n",
      " [0.03129647 0.66053676 0.6435941  0.67981543 0.3833041 ]]\n",
      "\n",
      "[[0.55642832 0.50934305 0.86169413 0.76055389 0.98169982]\n",
      " [0.82175993 0.57097263 0.0516012  0.         0.        ]\n",
      " [0.01297456 0.12283084 0.12584774 0.         0.        ]\n",
      " [0.14665173 0.49127734 0.16030343 0.71507517 0.13655235]\n",
      " [0.03129647 0.66053676 0.6435941  0.67981543 0.3833041 ]]\n"
     ]
    }
   ],
   "source": [
    "print(rand_mat)\n",
    "rand_mat[1:3,3:5] = 0\n",
    "print('')\n",
    "print(rand_mat)"
   ]
  },
  {
   "cell_type": "code",
   "execution_count": 24,
   "metadata": {},
   "outputs": [
    {
     "name": "stdout",
     "output_type": "stream",
     "text": [
      "[[0.55642832 0.50934305 0.86169413]\n",
      " [0.82175993 0.57097263 0.0516012 ]]\n",
      "[[3. 3. 3.]\n",
      " [3. 3. 3.]]\n"
     ]
    }
   ],
   "source": [
    "sub_mat = rand_mat[0:2,0:3]\n",
    "print(sub_mat)\n",
    "sub_mat[:] = 3\n",
    "print(sub_mat)\n"
   ]
  },
  {
   "cell_type": "code",
   "execution_count": 25,
   "metadata": {},
   "outputs": [
    {
     "name": "stdout",
     "output_type": "stream",
     "text": [
      "[[3.         3.         3.         0.76055389 0.98169982]\n",
      " [3.         3.         3.         0.         0.        ]\n",
      " [0.01297456 0.12283084 0.12584774 0.         0.        ]\n",
      " [0.14665173 0.49127734 0.16030343 0.71507517 0.13655235]\n",
      " [0.03129647 0.66053676 0.6435941  0.67981543 0.3833041 ]]\n"
     ]
    }
   ],
   "source": [
    "print(rand_mat)"
   ]
  },
  {
   "cell_type": "code",
   "execution_count": 26,
   "metadata": {},
   "outputs": [
    {
     "name": "stdout",
     "output_type": "stream",
     "text": [
      "[[99. 99. 99.]\n",
      " [99. 99. 99.]]\n",
      "[[3.         3.         3.         0.76055389 0.98169982]\n",
      " [3.         3.         3.         0.         0.        ]\n",
      " [0.01297456 0.12283084 0.12584774 0.         0.        ]\n",
      " [0.14665173 0.49127734 0.16030343 0.71507517 0.13655235]\n",
      " [0.03129647 0.66053676 0.6435941  0.67981543 0.3833041 ]]\n"
     ]
    }
   ],
   "source": [
    "sub_mat2 = rand_mat[0:2,0:3].copy()\n",
    "sub_mat2[:] = 99\n",
    "print(sub_mat2)\n",
    "print(rand_mat)\n"
   ]
  },
  {
   "cell_type": "code",
   "execution_count": null,
   "metadata": {},
   "outputs": [],
   "source": [
    "# break here for next video"
   ]
  },
  {
   "cell_type": "code",
   "execution_count": 27,
   "metadata": {},
   "outputs": [
    {
     "name": "stdout",
     "output_type": "stream",
     "text": [
      "[-1.51555732 -0.03641186  0.50795194  0.27991988 -1.19089862  0.38292598\n",
      "  1.4657155   0.19349848 -1.11242476  0.6668432  -0.14075008 -0.91378995\n",
      "  0.5651312   0.32223959  0.13764462]\n",
      "[False False  True  True False  True  True  True False  True False False\n",
      "  True  True  True]\n",
      "[0.50795194 0.27991988 0.38292598 1.4657155  0.19349848 0.6668432\n",
      " 0.5651312  0.32223959 0.13764462]\n"
     ]
    }
   ],
   "source": [
    "# we can also access entries with logicals\n",
    "rand_vec = np.random.randn(15)\n",
    "\n",
    "print(rand_vec)\n",
    "print(rand_vec>0)\n",
    "print(rand_vec[rand_vec>0])"
   ]
  },
  {
   "cell_type": "code",
   "execution_count": 28,
   "metadata": {},
   "outputs": [
    {
     "name": "stdout",
     "output_type": "stream",
     "text": [
      "[[ 2.33064777  3.61479345 -0.42907939  1.19027944  2.03811729]\n",
      " [-0.59094315 -0.22035002 -0.22903008  0.08294808  0.23633135]\n",
      " [ 0.66356053  0.49373551 -0.62546812 -0.80548475 -0.40340269]\n",
      " [ 0.795649   -1.17673403 -0.51694774  0.12836068  0.39208588]\n",
      " [ 0.17112956 -0.57748871 -0.00537526  1.13656111 -0.27935125]\n",
      " [ 0.7886412  -0.74859489 -0.06066173 -0.12201389  0.04839483]\n",
      " [ 1.35606581 -0.02113275  0.5062785  -0.44674686 -1.02707449]\n",
      " [ 0.37182763  1.08219611 -0.58159943 -0.94508854  1.51095395]\n",
      " [ 0.676959   -0.03544465 -1.21023519 -1.10282937 -0.60342395]\n",
      " [ 1.35404932  0.2754752  -1.28798252 -1.83565759 -1.12231798]]\n",
      "[2.33064777 3.61479345 1.19027944 2.03811729 0.08294808 0.23633135\n",
      " 0.66356053 0.49373551 0.795649   0.12836068 0.39208588 0.17112956\n",
      " 1.13656111 0.7886412  0.04839483 1.35606581 0.5062785  0.37182763\n",
      " 1.08219611 1.51095395 0.676959   1.35404932 0.2754752 ]\n"
     ]
    }
   ],
   "source": [
    "print(rand_mat2)\n",
    "print(rand_mat2[rand_mat2>0])"
   ]
  },
  {
   "cell_type": "code",
   "execution_count": 29,
   "metadata": {},
   "outputs": [
    {
     "name": "stdout",
     "output_type": "stream",
     "text": [
      "[-1.51555732 -0.03641186  0.50795194  0.27991988 -1.19089862  0.38292598\n",
      "  1.4657155   0.19349848 -1.11242476  0.6668432  -0.14075008 -0.91378995\n",
      "  0.5651312   0.32223959  0.13764462]\n",
      "\n",
      "[-1.51555732 -0.03641186 -5.          0.27991988 -1.19089862  0.38292598\n",
      " -5.          0.19349848 -1.11242476 -5.         -0.14075008 -0.91378995\n",
      " -5.          0.32223959  0.13764462]\n"
     ]
    }
   ],
   "source": [
    "\n",
    "print(rand_vec)\n",
    "print('')\n",
    "rand_vec[rand_vec>0.5] = -5\n",
    "print(rand_vec)"
   ]
  },
  {
   "cell_type": "code",
   "execution_count": 30,
   "metadata": {},
   "outputs": [],
   "source": [
    "# let's save some arrays on the disk for use later!\n",
    "np.save('saved_file_name',rand_mat2)\n"
   ]
  },
  {
   "cell_type": "code",
   "execution_count": 31,
   "metadata": {},
   "outputs": [],
   "source": [
    "np.savez('zipped_file_name',rand_mat=rand_mat,rand_mat2=rand_mat2)"
   ]
  },
  {
   "cell_type": "code",
   "execution_count": 32,
   "metadata": {},
   "outputs": [
    {
     "name": "stdout",
     "output_type": "stream",
     "text": [
      "[[ 2.33064777  3.61479345 -0.42907939  1.19027944  2.03811729]\n",
      " [-0.59094315 -0.22035002 -0.22903008  0.08294808  0.23633135]\n",
      " [ 0.66356053  0.49373551 -0.62546812 -0.80548475 -0.40340269]\n",
      " [ 0.795649   -1.17673403 -0.51694774  0.12836068  0.39208588]\n",
      " [ 0.17112956 -0.57748871 -0.00537526  1.13656111 -0.27935125]\n",
      " [ 0.7886412  -0.74859489 -0.06066173 -0.12201389  0.04839483]\n",
      " [ 1.35606581 -0.02113275  0.5062785  -0.44674686 -1.02707449]\n",
      " [ 0.37182763  1.08219611 -0.58159943 -0.94508854  1.51095395]\n",
      " [ 0.676959   -0.03544465 -1.21023519 -1.10282937 -0.60342395]\n",
      " [ 1.35404932  0.2754752  -1.28798252 -1.83565759 -1.12231798]]\n",
      "\n",
      "<numpy.lib.npyio.NpzFile object at 0x7fb413081f10>\n"
     ]
    }
   ],
   "source": [
    "# now let's load it\n",
    "loaded_vec = np.load('saved_file_name.npy')\n",
    "loaded_zip = np.load('zipped_file_name.npz')\n",
    "\n",
    "print(loaded_vec)\n",
    "print('')\n",
    "print(loaded_zip)"
   ]
  },
  {
   "cell_type": "code",
   "execution_count": 33,
   "metadata": {},
   "outputs": [
    {
     "name": "stdout",
     "output_type": "stream",
     "text": [
      "[[3.         3.         3.         0.76055389 0.98169982]\n",
      " [3.         3.         3.         0.         0.        ]\n",
      " [0.01297456 0.12283084 0.12584774 0.         0.        ]\n",
      " [0.14665173 0.49127734 0.16030343 0.71507517 0.13655235]\n",
      " [0.03129647 0.66053676 0.6435941  0.67981543 0.3833041 ]]\n",
      "\n",
      "[[ 2.33064777  3.61479345 -0.42907939  1.19027944  2.03811729]\n",
      " [-0.59094315 -0.22035002 -0.22903008  0.08294808  0.23633135]\n",
      " [ 0.66356053  0.49373551 -0.62546812 -0.80548475 -0.40340269]\n",
      " [ 0.795649   -1.17673403 -0.51694774  0.12836068  0.39208588]\n",
      " [ 0.17112956 -0.57748871 -0.00537526  1.13656111 -0.27935125]\n",
      " [ 0.7886412  -0.74859489 -0.06066173 -0.12201389  0.04839483]\n",
      " [ 1.35606581 -0.02113275  0.5062785  -0.44674686 -1.02707449]\n",
      " [ 0.37182763  1.08219611 -0.58159943 -0.94508854  1.51095395]\n",
      " [ 0.676959   -0.03544465 -1.21023519 -1.10282937 -0.60342395]\n",
      " [ 1.35404932  0.2754752  -1.28798252 -1.83565759 -1.12231798]]\n",
      "[[3.         3.         3.         0.76055389 0.98169982]\n",
      " [3.         3.         3.         0.         0.        ]\n",
      " [0.01297456 0.12283084 0.12584774 0.         0.        ]\n",
      " [0.14665173 0.49127734 0.16030343 0.71507517 0.13655235]\n",
      " [0.03129647 0.66053676 0.6435941  0.67981543 0.3833041 ]]\n"
     ]
    }
   ],
   "source": [
    "print(loaded_zip['rand_mat'])\n",
    "print('')\n",
    "print(loaded_zip['rand_mat2'])\n",
    "\n",
    "new_array  = loaded_zip['rand_mat']\n",
    "print(new_array)"
   ]
  },
  {
   "cell_type": "code",
   "execution_count": 34,
   "metadata": {},
   "outputs": [
    {
     "name": "stdout",
     "output_type": "stream",
     "text": [
      "[[3.         3.         3.         0.76055389 0.98169982]\n",
      " [3.         3.         3.         0.         0.        ]\n",
      " [0.01297456 0.12283084 0.12584774 0.         0.        ]\n",
      " [0.14665173 0.49127734 0.16030343 0.71507517 0.13655235]\n",
      " [0.03129647 0.66053676 0.6435941  0.67981543 0.3833041 ]]\n",
      "\n",
      "[[3.         3.         3.         0.76055389 0.98169982]\n",
      " [3.         3.         3.         0.         0.        ]\n",
      " [0.01297456 0.12283084 0.12584774 0.         0.        ]\n",
      " [0.14665173 0.49127734 0.16030343 0.71507517 0.13655235]\n",
      " [0.03129647 0.66053676 0.6435941  0.67981543 0.3833041 ]]\n"
     ]
    }
   ],
   "source": [
    "# we can also save/load as text files...but only single variables\n",
    "np.savetxt('text_file_name.txt',rand_mat,delimiter=',')\n",
    "rand_mat_txt = np.loadtxt('text_file_name.txt',delimiter=',')\n",
    "print(rand_mat)\n",
    "print('')\n",
    "print(rand_mat_txt)"
   ]
  }
 ],
 "metadata": {
  "kernelspec": {
   "display_name": "Python 3",
   "language": "python",
   "name": "python3"
  },
  "language_info": {
   "codemirror_mode": {
    "name": "ipython",
    "version": 3
   },
   "file_extension": ".py",
   "mimetype": "text/x-python",
   "name": "python",
   "nbconvert_exporter": "python",
   "pygments_lexer": "ipython3",
   "version": "3.7.6"
  }
 },
 "nbformat": 4,
 "nbformat_minor": 4
}
