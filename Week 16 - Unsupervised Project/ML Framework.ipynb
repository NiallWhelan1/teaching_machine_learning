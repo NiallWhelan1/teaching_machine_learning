{
 "cells": [
  {
   "cell_type": "markdown",
   "metadata": {},
   "source": [
    "General Steps in ML Model Building Process (Supervised)\n",
    "\n",
    "- These are guidlines and will vary depending on the algorithm, dataset and other factors\n"
   ]
  },
  {
   "cell_type": "markdown",
   "metadata": {},
   "source": [
    "## 1. Import Libraries"
   ]
  },
  {
   "cell_type": "markdown",
   "metadata": {},
   "source": [
    "## 2. Extract Data"
   ]
  },
  {
   "cell_type": "markdown",
   "metadata": {},
   "source": [
    "## 3. High Level Data Overview"
   ]
  },
  {
   "cell_type": "markdown",
   "metadata": {},
   "source": [
    "- Shape\n",
    "- Data Types\n",
    "- Nulls etc."
   ]
  },
  {
   "cell_type": "markdown",
   "metadata": {},
   "source": [
    "## 4. Exploritory Data Analysis\n",
    "#### 4.1. Univariate Analysis\n",
    "#### 4.2. Bivariate Analysis"
   ]
  },
  {
   "cell_type": "markdown",
   "metadata": {},
   "source": [
    "## 5. Data Preparation\n",
    "#### 5.1. Train Test (Validation) Split\n",
    "#### 5.2. Missing Values\n",
    "#### 5.3. Outliers\n",
    "#### 5.4. Feature Scaling \n",
    "#### 5.5. Feature Development & Engineering\n",
    "\n",
    "- Some of these steps will be needed and some not depending on the data, algorithm etc. .\n",
    "- Also note that this is not an exhaustive list, nor is it always in this order"
   ]
  },
  {
   "cell_type": "markdown",
   "metadata": {},
   "source": [
    "## 6. Model Build\n",
    "\n",
    "\n",
    "- This section and the following (performance eval) tend to be an iterative cycle\n",
    "\n"
   ]
  },
  {
   "cell_type": "markdown",
   "metadata": {},
   "source": [
    "## 7. Performance Evaluation"
   ]
  }
 ],
 "metadata": {
  "kernelspec": {
   "display_name": "Python 3",
   "language": "python",
   "name": "python3"
  },
  "language_info": {
   "codemirror_mode": {
    "name": "ipython",
    "version": 3
   },
   "file_extension": ".py",
   "mimetype": "text/x-python",
   "name": "python",
   "nbconvert_exporter": "python",
   "pygments_lexer": "ipython3",
   "version": "3.7.6"
  }
 },
 "nbformat": 4,
 "nbformat_minor": 4
}
