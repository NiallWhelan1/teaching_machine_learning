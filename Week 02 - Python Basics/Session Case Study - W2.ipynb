{
 "cells": [
  {
   "cell_type": "markdown",
   "metadata": {
    "colab_type": "text",
    "id": "Mk_HiHgvr7W9"
   },
   "source": [
    "### Case Study - Honey Production\n",
    "\n",
    "Source Credit : https://www.kaggle.com/jessicali9530/honey-production\n",
    "\n",
    "#### Context\n",
    "In 2006, global concern was raised over the rapid decline in the honeybee population, an integral component to American honey agriculture. Large numbers of hives were lost to Colony Collapse Disorder, a phenomenon of disappearing worker bees causing the remaining hive colony to collapse. Speculation to the cause of this disorder points to hive diseases and pesticides harming the pollinators, though no overall consensus has been reached. Twelve years later, some industries are observing recovery but the American honey industry is still largely struggling. The U.S. used to locally produce over half the honey it consumes per year. Now, honey mostly comes from overseas, with 350 of the 400 million pounds of honey consumed every year originating from imports. This dataset provides insight into honey production supply and demand in America by state from 1998 to 2012.\n",
    "\n",
    "#### Content\n",
    "The National Agricultural Statistics Service (NASS) is the primary data reporting body for the US Department of Agriculture (USDA). NASS's mission is to \"provide timely, accurate, and useful statistics in service to U.S. agriculture\". From datasets to census surveys, their data covers virtually all aspects of U.S. agriculture. Honey production is one of the datasets offered. Click here for the original page containing the data along with related datasets such as Honey Bee Colonies and Cost of Pollination. Data wrangling was performed in order to clean the dataset. honeyproduction.csv is the final tidy dataset suitable for analysis. The three other datasets (which include \"honeyraw\" in the title) are the original raw data downloaded from the site. They are uploaded to this page along with the \"Wrangling The Honey Production Dataset\" kernel as an example to show users how data can be wrangled into a cleaner format. Useful metadata on certain variables of the honeyproduction dataset is provided below:\n",
    "\n",
    "  - <b>numcol</b>: Number of honey producing colonies. Honey producing colonies are the maximum number of colonies from which honey was taken during the year. It is possible to take honey from colonies which did not survive the entire year\n",
    "  - <b>yieldpercol</b>: Honey yield per colony. Unit is pounds\n",
    "  - <b>totalprod</b>: Total production (numcol x yieldpercol). Unit is pounds\n",
    "  - <b>stocks</b>: Refers to stocks held by producers. Unit is pounds\n",
    "  - <b>priceperlb</b>: Refers to average price per pound based on expanded sales. Unit is dollars.\n",
    "  - <b>prodvalue</b>: Value of production (totalprod x priceperlb). Unit is dollars.\n",
    "    \n",
    "Other useful information: Certain states are excluded every year (ex. CT) to avoid disclosing data for individual operations. Due to rounding, total colonies multiplied by total yield may not equal production. Also, summation of states will not equal U.S. level value of production.\n",
    "\n",
    "#### Inspiration\n",
    "   - How has honey production yield changed from 1998 to 2012?\n",
    "   - Over time, which states produce the most honey? Which produce the least? Which have experienced the most change in honey yield?\n",
    "   - Does the data show any trends in terms of the number of honey producing colonies and yield per colony before 2006, which was when concern over Colony Collapse Disorder spread nationwide?\n",
    "   - Are there any patterns that can be observed between total honey production and value of production every year?\n",
    "   - How has value of production, which in some sense could be tied to demand, changed every year?\n"
   ]
  },
  {
   "cell_type": "markdown",
   "metadata": {
    "colab_type": "text",
    "id": "VqG7fQnLr7XB"
   },
   "source": [
    "#### Import pandas, numpy, seaborn, matplotlib.pyplot packages"
   ]
  },
  {
   "cell_type": "code",
   "execution_count": 1,
   "metadata": {
    "colab": {},
    "colab_type": "code",
    "id": "VjOIXQZUr7XE"
   },
   "outputs": [],
   "source": [
    "import pandas as pd\n",
    "import numpy as np\n",
    "import seaborn as sns\n",
    "import matplotlib.pyplot as plt\n",
    "%matplotlib inline"
   ]
  },
  {
   "cell_type": "markdown",
   "metadata": {
    "colab_type": "text",
    "id": "EtdA7YnYr7XO"
   },
   "source": [
    "#### Import the honeyproduction.csv file"
   ]
  },
  {
   "cell_type": "code",
   "execution_count": 2,
   "metadata": {
    "colab": {
     "base_uri": "https://localhost:8080/",
     "height": 374
    },
    "colab_type": "code",
    "executionInfo": {
     "elapsed": 1031,
     "status": "error",
     "timestamp": 1556134150474,
     "user": {
      "displayName": "Subhojyoti Lahiri",
      "photoUrl": "",
      "userId": "08411706033718862955"
     },
     "user_tz": -330
    },
    "id": "0xMeZ4fXr7XQ",
    "outputId": "6ea438e6-016d-413f-e253-fe2c16546b93"
   },
   "outputs": [],
   "source": [
    "mydata = pd.read_csv(\"honeyproduction.csv\")"
   ]
  },
  {
   "cell_type": "markdown",
   "metadata": {
    "colab_type": "text",
    "id": "OmwpPG1Mr7XX"
   },
   "source": [
    "#### Explore the data for non-null and extreme values"
   ]
  },
  {
   "cell_type": "code",
   "execution_count": 3,
   "metadata": {
    "colab": {},
    "colab_type": "code",
    "id": "mFCZXhivr7XZ",
    "outputId": "1d3885b8-2f92-46bc-d86b-bd5177d07d11"
   },
   "outputs": [
    {
     "data": {
      "text/html": [
       "<div>\n",
       "<style scoped>\n",
       "    .dataframe tbody tr th:only-of-type {\n",
       "        vertical-align: middle;\n",
       "    }\n",
       "\n",
       "    .dataframe tbody tr th {\n",
       "        vertical-align: top;\n",
       "    }\n",
       "\n",
       "    .dataframe thead th {\n",
       "        text-align: right;\n",
       "    }\n",
       "</style>\n",
       "<table border=\"1\" class=\"dataframe\">\n",
       "  <thead>\n",
       "    <tr style=\"text-align: right;\">\n",
       "      <th></th>\n",
       "      <th>state</th>\n",
       "      <th>numcol</th>\n",
       "      <th>yieldpercol</th>\n",
       "      <th>totalprod</th>\n",
       "      <th>stocks</th>\n",
       "      <th>priceperlb</th>\n",
       "      <th>prodvalue</th>\n",
       "      <th>year</th>\n",
       "    </tr>\n",
       "  </thead>\n",
       "  <tbody>\n",
       "    <tr>\n",
       "      <th>0</th>\n",
       "      <td>AL</td>\n",
       "      <td>16000.0</td>\n",
       "      <td>71</td>\n",
       "      <td>1136000.0</td>\n",
       "      <td>159000.0</td>\n",
       "      <td>0.72</td>\n",
       "      <td>818000.0</td>\n",
       "      <td>1998</td>\n",
       "    </tr>\n",
       "    <tr>\n",
       "      <th>1</th>\n",
       "      <td>AZ</td>\n",
       "      <td>55000.0</td>\n",
       "      <td>60</td>\n",
       "      <td>3300000.0</td>\n",
       "      <td>1485000.0</td>\n",
       "      <td>0.64</td>\n",
       "      <td>2112000.0</td>\n",
       "      <td>1998</td>\n",
       "    </tr>\n",
       "    <tr>\n",
       "      <th>2</th>\n",
       "      <td>AR</td>\n",
       "      <td>53000.0</td>\n",
       "      <td>65</td>\n",
       "      <td>3445000.0</td>\n",
       "      <td>1688000.0</td>\n",
       "      <td>0.59</td>\n",
       "      <td>2033000.0</td>\n",
       "      <td>1998</td>\n",
       "    </tr>\n",
       "    <tr>\n",
       "      <th>3</th>\n",
       "      <td>CA</td>\n",
       "      <td>450000.0</td>\n",
       "      <td>83</td>\n",
       "      <td>37350000.0</td>\n",
       "      <td>12326000.0</td>\n",
       "      <td>0.62</td>\n",
       "      <td>23157000.0</td>\n",
       "      <td>1998</td>\n",
       "    </tr>\n",
       "    <tr>\n",
       "      <th>4</th>\n",
       "      <td>CO</td>\n",
       "      <td>27000.0</td>\n",
       "      <td>72</td>\n",
       "      <td>1944000.0</td>\n",
       "      <td>1594000.0</td>\n",
       "      <td>0.70</td>\n",
       "      <td>1361000.0</td>\n",
       "      <td>1998</td>\n",
       "    </tr>\n",
       "  </tbody>\n",
       "</table>\n",
       "</div>"
      ],
      "text/plain": [
       "  state    numcol  yieldpercol   totalprod      stocks  priceperlb  \\\n",
       "0    AL   16000.0           71   1136000.0    159000.0        0.72   \n",
       "1    AZ   55000.0           60   3300000.0   1485000.0        0.64   \n",
       "2    AR   53000.0           65   3445000.0   1688000.0        0.59   \n",
       "3    CA  450000.0           83  37350000.0  12326000.0        0.62   \n",
       "4    CO   27000.0           72   1944000.0   1594000.0        0.70   \n",
       "\n",
       "    prodvalue  year  \n",
       "0    818000.0  1998  \n",
       "1   2112000.0  1998  \n",
       "2   2033000.0  1998  \n",
       "3  23157000.0  1998  \n",
       "4   1361000.0  1998  "
      ]
     },
     "metadata": {},
     "output_type": "display_data"
    },
    {
     "name": "stdout",
     "output_type": "stream",
     "text": [
      "Min. Year: 1998\n",
      "Max. Year: 2012\n",
      "Unique Years: 15\n",
      "Dataframe Shape: (626, 8)\n"
     ]
    }
   ],
   "source": [
    "display(mydata.head())\n",
    "print(f\"Min. Year: { mydata.year.min() }\")\n",
    "print(f\"Max. Year: {mydata.year.max()}\")\n",
    "print(f\"Unique Years: {mydata.year.nunique()}\")\n",
    "print(f\"Dataframe Shape: {mydata.shape}\")\n"
   ]
  },
  {
   "cell_type": "code",
   "execution_count": null,
   "metadata": {
    "colab": {},
    "colab_type": "code",
    "id": "rX4DcTuOr7Xo",
    "outputId": "d39502a5-9170-4f52-9b23-d83bb08d6bc9"
   },
   "outputs": [],
   "source": [
    "mydata.describe().transpose()"
   ]
  },
  {
   "cell_type": "code",
   "execution_count": null,
   "metadata": {
    "colab": {},
    "colab_type": "code",
    "id": "uSbGtFofr7Xx",
    "outputId": "90d067f2-9126-408b-9a79-a337e92084ee"
   },
   "outputs": [],
   "source": [
    "mydata.info()"
   ]
  },
  {
   "cell_type": "markdown",
   "metadata": {
    "colab_type": "text",
    "id": "FF2d4TAir7X6"
   },
   "source": [
    "#### How many States are included in the dataset?"
   ]
  },
  {
   "cell_type": "code",
   "execution_count": null,
   "metadata": {
    "colab": {},
    "colab_type": "code",
    "id": "6CurgpUXr7X8",
    "outputId": "8881b813-cbd7-47bd-a1c4-6693e4c5eca0"
   },
   "outputs": [],
   "source": [
    "mydata['state'].nunique()"
   ]
  },
  {
   "cell_type": "markdown",
   "metadata": {
    "colab_type": "text",
    "id": "mzp_6AkKr7YF"
   },
   "source": [
    "#### Which are he States that are included in this dataset?"
   ]
  },
  {
   "cell_type": "code",
   "execution_count": null,
   "metadata": {
    "colab": {},
    "colab_type": "code",
    "id": "5NZK9WIUr7YH",
    "outputId": "d6b2fd06-7634-4d50-9ad9-1b02f010b593"
   },
   "outputs": [],
   "source": [
    "mydata['state'].unique()"
   ]
  },
  {
   "cell_type": "markdown",
   "metadata": {
    "colab_type": "text",
    "id": "oeNUbrwgr7YQ"
   },
   "source": [
    "#### Calculate the average production for each state across all years"
   ]
  },
  {
   "cell_type": "code",
   "execution_count": null,
   "metadata": {},
   "outputs": [],
   "source": [
    "mydata[''].str.replace(',','')\n",
    "mydata[''].str.astype(int)"
   ]
  },
  {
   "cell_type": "code",
   "execution_count": null,
   "metadata": {
    "colab": {},
    "colab_type": "code",
    "id": "VGASm0GPr7YS",
    "outputId": "245302ff-e58c-4eec-ebaf-b04c899251ff"
   },
   "outputs": [],
   "source": [
    "mydata[['state', 'totalprod']].groupby('state').mean().round(2).head()"
   ]
  },
  {
   "cell_type": "markdown",
   "metadata": {
    "colab_type": "text",
    "id": "F8aLYYXOr7ZC"
   },
   "source": [
    "#### Which State has seen highest volume in production, and in which year?"
   ]
  },
  {
   "cell_type": "code",
   "execution_count": null,
   "metadata": {
    "colab": {},
    "colab_type": "code",
    "id": "jr8XIw5jr7ZE",
    "outputId": "a07cd7ee-b394-491a-bf81-36a3b47a87ad"
   },
   "outputs": [],
   "source": [
    "max_val = mydata['totalprod'].max()\n",
    "mydata[mydata['totalprod'] == max_val]"
   ]
  },
  {
   "cell_type": "markdown",
   "metadata": {
    "colab_type": "text",
    "id": "VTNRAEiir7ZR"
   },
   "source": [
    "#### What is the average yield per colony , for each year?"
   ]
  },
  {
   "cell_type": "code",
   "execution_count": null,
   "metadata": {
    "colab": {},
    "colab_type": "code",
    "id": "EdyT258Tr7ZT",
    "outputId": "a98893ff-ce21-40ff-d872-492521800254"
   },
   "outputs": [],
   "source": [
    "table = mydata[['year', 'yieldpercol']].groupby('year').mean().round()\n",
    "sns.lineplot(x = 'year', y = 'yieldpercol', data=table)"
   ]
  },
  {
   "cell_type": "markdown",
   "metadata": {
    "colab_type": "text",
    "id": "Fp9pvvOvr7Ze"
   },
   "source": [
    "#### Is there correlation between any 2 Numeric variables? Test for the same using Visual techniques"
   ]
  },
  {
   "cell_type": "code",
   "execution_count": null,
   "metadata": {
    "colab": {},
    "colab_type": "code",
    "id": "hVzDrjHUr7Zf",
    "outputId": "45d48dba-b1d7-4000-c799-ef40b91043cd"
   },
   "outputs": [],
   "source": [
    "sns.pairplot(mydata[['numcol', 'yieldpercol', 'totalprod', 'stocks', 'priceperlb', 'prodvalue']])"
   ]
  },
  {
   "cell_type": "code",
   "execution_count": null,
   "metadata": {
    "colab": {},
    "colab_type": "code",
    "id": "IvPM5KC2r7Zt",
    "outputId": "34e0b4ad-16fa-471e-b472-cd2e08a78359"
   },
   "outputs": [],
   "source": [
    "cor = mydata[['numcol', \n",
    "              'yieldpercol', \n",
    "              'totalprod', \n",
    "              'stocks', \n",
    "              'priceperlb', \n",
    "              'prodvalue']].corr()\n",
    "\n",
    "cor"
   ]
  },
  {
   "cell_type": "code",
   "execution_count": null,
   "metadata": {
    "colab": {},
    "colab_type": "code",
    "id": "kKaiO2Iir7Z4",
    "outputId": "10068863-72e6-4b15-8d05-2c22d8001a41"
   },
   "outputs": [],
   "source": [
    "sns.heatmap(cor,annot=True,cmap='PiYG',vmin=-1,vmax=1)"
   ]
  },
  {
   "cell_type": "markdown",
   "metadata": {
    "colab_type": "text",
    "id": "gOPJ-pPqr7aA"
   },
   "source": [
    "#### What is the general Production trend from 1998 to 2012? Describe visually"
   ]
  },
  {
   "cell_type": "code",
   "execution_count": null,
   "metadata": {
    "colab": {},
    "colab_type": "code",
    "id": "oXdGuxY7r7aC",
    "outputId": "8b4b1997-3155-4d70-a4ab-59c342c71a77"
   },
   "outputs": [],
   "source": [
    "g = sns.lineplot(x = mydata['year'], y = mydata['totalprod'])\n",
    "## g = sns.pointplot(x = 'year', y = 'totalprod', data = mydata) ## Exact Same\n",
    "\n",
    "## Rotate the lables\n",
    "g = g.set_xticklabels(g.get_xticklabels(), rotation=30)\n"
   ]
  },
  {
   "cell_type": "markdown",
   "metadata": {
    "colab_type": "text",
    "id": "QeNwMuuir7aK"
   },
   "source": [
    "#### How is the production trend for each State? Describe visually - Hint (Use sns.FacetGrid() & g.map() functions)"
   ]
  },
  {
   "cell_type": "code",
   "execution_count": null,
   "metadata": {
    "colab": {},
    "colab_type": "code",
    "id": "mdMZxqIgr7aM",
    "outputId": "2e0f7eef-013f-4a6d-a258-9f735dc5feb0"
   },
   "outputs": [],
   "source": [
    "g = sns.FacetGrid(mydata, col=\"state\", col_wrap=5, height=3)\n",
    "g = g.map(sns.lineplot, \"year\", \"totalprod\", marker=\".\")"
   ]
  },
  {
   "cell_type": "markdown",
   "metadata": {
    "colab_type": "text",
    "id": "u4I0HbSSr7aU"
   },
   "source": [
    "#### Is there a linear relationship between the Number of Colonies & Value in Production? Check at an overall level, at state and year levels as well"
   ]
  },
  {
   "cell_type": "code",
   "execution_count": null,
   "metadata": {
    "colab": {},
    "colab_type": "code",
    "id": "Au3wUWgKr7aW",
    "outputId": "42292c45-510a-49b1-d0a8-9f366aba16c4"
   },
   "outputs": [],
   "source": [
    "sns.lmplot(x=\"numcol\", y=\"prodvalue\", data=mydata)"
   ]
  },
  {
   "cell_type": "code",
   "execution_count": null,
   "metadata": {
    "colab": {},
    "colab_type": "code",
    "id": "CbVV-c-fr7ar",
    "outputId": "66e204d4-e4ff-4de5-b6dd-51b7e050a452"
   },
   "outputs": [],
   "source": [
    "## Split out by year\n",
    "sns.lmplot(x=\"numcol\", y=\"prodvalue\", data=mydata, hue='state')"
   ]
  },
  {
   "cell_type": "code",
   "execution_count": null,
   "metadata": {},
   "outputs": [],
   "source": [
    "# Interactive scatter plot using plotly package\n",
    "import plotly.express as px\n",
    "px.scatter(mydata, x = 'numcol', y = 'prodvalue', \n",
    "           animation_frame = 'year', \n",
    "           size = 'totalprod')"
   ]
  },
  {
   "cell_type": "markdown",
   "metadata": {
    "colab_type": "text",
    "id": "J3-yzoAtr7a0"
   },
   "source": [
    "#### Check the distribution of total prodcution across each year using boxplots"
   ]
  },
  {
   "cell_type": "code",
   "execution_count": null,
   "metadata": {
    "colab": {},
    "colab_type": "code",
    "id": "K3rTcV0rr7a2",
    "outputId": "6a3041bd-902c-4143-bcf9-d07faca41eba"
   },
   "outputs": [],
   "source": [
    "fig, ax = plt.subplots(figsize=(20,10))\n",
    "#sns.boxplot(x = 'year', y = 'totalprod',data=mydata)\n",
    "\n",
    "## No outliers\n",
    "sns.boxplot(x = 'year', y = 'totalprod',data=mydata, showfliers = False)"
   ]
  },
  {
   "cell_type": "markdown",
   "metadata": {
    "colab_type": "text",
    "id": "qkDju_OVr7bA"
   },
   "source": [
    "#### How has the Value in Production changed over the years?"
   ]
  },
  {
   "cell_type": "code",
   "execution_count": null,
   "metadata": {
    "colab": {},
    "colab_type": "code",
    "id": "TtYt3H61r7bL",
    "outputId": "bc8811d4-0e72-4b4e-db33-790520a48d7f"
   },
   "outputs": [],
   "source": [
    "sns.pointplot(x = mydata['year'], y = mydata['prodvalue'])"
   ]
  },
  {
   "cell_type": "markdown",
   "metadata": {
    "colab_type": "text",
    "id": "hCiepKdwr7bU"
   },
   "source": [
    "#### What is the linear relationship between Production volume & value over the years?"
   ]
  },
  {
   "cell_type": "code",
   "execution_count": null,
   "metadata": {
    "colab": {},
    "colab_type": "code",
    "id": "zViYsj7Ur7bW",
    "outputId": "e2201984-801f-485f-810e-4dd316d555f1"
   },
   "outputs": [],
   "source": [
    "sns.lmplot(x=\"totalprod\", y=\"prodvalue\", data=mydata)"
   ]
  },
  {
   "cell_type": "markdown",
   "metadata": {},
   "source": [
    "## Bonus: Some Additional Features I Found Useful"
   ]
  },
  {
   "cell_type": "markdown",
   "metadata": {},
   "source": [
    "#### Tired of plain white backgrounds and dull graphs?"
   ]
  },
  {
   "cell_type": "code",
   "execution_count": null,
   "metadata": {},
   "outputs": [],
   "source": [
    "## Before\n",
    "print(\"Before\")\n",
    "sns.lmplot(x=\"totalprod\", y=\"prodvalue\", data=mydata)\n",
    "plt.show()\n",
    "\n",
    "## Set aesthetic parameters in one step.\n",
    "sns.set(context='notebook',\n",
    "        style='darkgrid',\n",
    "        palette='deep',\n",
    "        font='sans-serif',\n",
    "        font_scale=1,\n",
    "        color_codes=True,\n",
    "        rc=None)\n",
    "\n",
    "print(\"\\nAfter\")\n",
    "sns.lmplot(x=\"totalprod\", y=\"prodvalue\", data=mydata)\n",
    "plt.show()"
   ]
  },
  {
   "cell_type": "markdown",
   "metadata": {},
   "source": [
    "#### Want to clean up those axis and titles?\n",
    "###### Lets find the top states by overall production, as a % of total production"
   ]
  },
  {
   "cell_type": "code",
   "execution_count": null,
   "metadata": {
    "scrolled": true
   },
   "outputs": [],
   "source": [
    "df = mydata[['state','totalprod']].groupby('state').sum().reset_index()\n",
    "df['perc_production'] = df['totalprod'] / df['totalprod'].sum()\n",
    "df = df.sort_values('perc_production', ascending = False)\n",
    "df.head()"
   ]
  },
  {
   "cell_type": "code",
   "execution_count": null,
   "metadata": {},
   "outputs": [],
   "source": [
    "## Lets make the plot a bit larger\n",
    "plt.figure(figsize=(20,15))\n",
    "\n",
    "ax = sns.barplot(x=\"perc_production\", y=\"state\", data=df, palette='coolwarm')\n",
    "\n",
    "## Percentages on x axis\n",
    "vals = ax.get_xticks()\n",
    "ax.set_xticklabels(['%1.0f%%' %(i*100) for i in vals])\n",
    "\n",
    "## Rename the X & y axis lables\n",
    "ax.set(xlabel = \"% of Production\", ylabel =ax.get_ylabel().title() );\n",
    "\n",
    "## Give the plot a title\n",
    "plt.title(\"Top States by % of Total Production\", size = 18)\n",
    "\n",
    "## Add % to end of bar as annotation\n",
    "for p in ax.patches:\n",
    "    ax.annotate('{:.1f}%'.format(p.get_width()* 100), ## Create % Symbol\n",
    "    (p.get_x() + p.get_width() +0.003, ## Determine position along X axis (first part of a tuple)\n",
    "      p.get_y()+(p.get_height()/2)), ## Deterimine postition along Y axis (2nd part of a tuple)\n",
    "    ha='center', va='center', ## Starting point for measurement on vertical axis (VA) and horizontal axis (HA)\n",
    "    color= 'black')\n",
    "\n",
    "plt.show();"
   ]
  },
  {
   "cell_type": "code",
   "execution_count": 12,
   "metadata": {},
   "outputs": [
    {
     "name": "stderr",
     "output_type": "stream",
     "text": [
      "/Users/nw/opt/anaconda3/lib/python3.7/site-packages/seaborn/_decorators.py:43: FutureWarning: Pass the following variable as a keyword arg: x. From version 0.12, the only valid positional argument will be `data`, and passing other arguments without an explicit keyword will result in an error or misinterpretation.\n",
      "  FutureWarning\n"
     ]
    },
    {
     "data": {
      "image/png": "[encoded data removed]",
      "text/plain": [
       "<Figure size 1440x1080 with 1 Axes>"
      ]
     },
     "metadata": {
      "needs_background": "light"
     },
     "output_type": "display_data"
    }
   ],
   "source": [
    "plt.figure(figsize=(20,15))\n",
    "plt.title(\"Number of Records each year\", size = 18)\n",
    "ax= sns.countplot(mydata['year'])\n",
    "\n",
    "ax.set_xticklabels(ax.get_xticklabels(), rotation=90)\n",
    "\n",
    "for p in ax.patches:\n",
    "    ax.annotate(p.get_height(), (p.get_x()+0.15, p.get_height()+1))"
   ]
  },
  {
   "cell_type": "code",
   "execution_count": null,
   "metadata": {},
   "outputs": [],
   "source": [
    "movie['Release Date Convert'] = pd.to_datetime(movie['release date'], format = '%d-%b-%Y')\n",
    "movie ['Release Year'] = movie['Release Date Convert'].dt.year\n",
    "plt.figure(figsize=(20,15))\n",
    "plt.title(\"Number of Movies released each year\", size = 18)\n",
    "ax= sns.countplot(movie['Release Year'])\n",
    "ax = ax.set_xticklabels(ax.get_xticklabels(), rotation=90)\n",
    "# label each bar in histogram\n",
    "for p in ax.patches:\n",
    "    height = p.get_height() # get the height of each bar\n",
    "    # adding text to each bar\n",
    "    ax.text(x = p.get_x()+(p.get_width()/2), # x-coordinate position of data label, padded to be in the middle of the bar\n",
    "    y = height+0.2, # y-coordinate position of data label, padded 0.2 above bar\n",
    "    s = '{:.0f}'.format(height), # data label, formatted to ignore decimals\n",
    "    ha = 'center') # sets horizontal alignment (ha) to center"
   ]
  }
 ],
 "metadata": {
  "colab": {
   "name": "Pandas & Data Visualization - Honey Production Kaggle Dataset-Copy1 (1).ipynb",
   "provenance": [],
   "version": "0.3.2"
  },
  "kernelspec": {
   "display_name": "Python 3",
   "language": "python",
   "name": "python3"
  },
  "language_info": {
   "codemirror_mode": {
    "name": "ipython",
    "version": 3
   },
   "file_extension": ".py",
   "mimetype": "text/x-python",
   "name": "python",
   "nbconvert_exporter": "python",
   "pygments_lexer": "ipython3",
   "version": "3.7.6"
  }
 },
 "nbformat": 4,
 "nbformat_minor": 4
}
